{
 "cells": [
  {
   "cell_type": "markdown",
   "metadata": {},
   "source": [
    "## Preprocessing"
   ]
  },
  {
   "cell_type": "code",
   "execution_count": 1,
   "metadata": {},
   "outputs": [
    {
     "data": {
      "text/html": [
       "<div>\n",
       "<style scoped>\n",
       "    .dataframe tbody tr th:only-of-type {\n",
       "        vertical-align: middle;\n",
       "    }\n",
       "\n",
       "    .dataframe tbody tr th {\n",
       "        vertical-align: top;\n",
       "    }\n",
       "\n",
       "    .dataframe thead th {\n",
       "        text-align: right;\n",
       "    }\n",
       "</style>\n",
       "<table border=\"1\" class=\"dataframe\">\n",
       "  <thead>\n",
       "    <tr style=\"text-align: right;\">\n",
       "      <th></th>\n",
       "      <th>EIN</th>\n",
       "      <th>NAME</th>\n",
       "      <th>APPLICATION_TYPE</th>\n",
       "      <th>AFFILIATION</th>\n",
       "      <th>CLASSIFICATION</th>\n",
       "      <th>USE_CASE</th>\n",
       "      <th>ORGANIZATION</th>\n",
       "      <th>STATUS</th>\n",
       "      <th>INCOME_AMT</th>\n",
       "      <th>SPECIAL_CONSIDERATIONS</th>\n",
       "      <th>ASK_AMT</th>\n",
       "      <th>IS_SUCCESSFUL</th>\n",
       "    </tr>\n",
       "  </thead>\n",
       "  <tbody>\n",
       "    <tr>\n",
       "      <th>0</th>\n",
       "      <td>10520599</td>\n",
       "      <td>BLUE KNIGHTS MOTORCYCLE CLUB</td>\n",
       "      <td>T10</td>\n",
       "      <td>Independent</td>\n",
       "      <td>C1000</td>\n",
       "      <td>ProductDev</td>\n",
       "      <td>Association</td>\n",
       "      <td>1</td>\n",
       "      <td>0</td>\n",
       "      <td>N</td>\n",
       "      <td>5000</td>\n",
       "      <td>1</td>\n",
       "    </tr>\n",
       "    <tr>\n",
       "      <th>1</th>\n",
       "      <td>10531628</td>\n",
       "      <td>AMERICAN CHESAPEAKE CLUB CHARITABLE TR</td>\n",
       "      <td>T3</td>\n",
       "      <td>Independent</td>\n",
       "      <td>C2000</td>\n",
       "      <td>Preservation</td>\n",
       "      <td>Co-operative</td>\n",
       "      <td>1</td>\n",
       "      <td>1-9999</td>\n",
       "      <td>N</td>\n",
       "      <td>108590</td>\n",
       "      <td>1</td>\n",
       "    </tr>\n",
       "    <tr>\n",
       "      <th>2</th>\n",
       "      <td>10547893</td>\n",
       "      <td>ST CLOUD PROFESSIONAL FIREFIGHTERS</td>\n",
       "      <td>T5</td>\n",
       "      <td>CompanySponsored</td>\n",
       "      <td>C3000</td>\n",
       "      <td>ProductDev</td>\n",
       "      <td>Association</td>\n",
       "      <td>1</td>\n",
       "      <td>0</td>\n",
       "      <td>N</td>\n",
       "      <td>5000</td>\n",
       "      <td>0</td>\n",
       "    </tr>\n",
       "    <tr>\n",
       "      <th>3</th>\n",
       "      <td>10553066</td>\n",
       "      <td>SOUTHSIDE ATHLETIC ASSOCIATION</td>\n",
       "      <td>T3</td>\n",
       "      <td>CompanySponsored</td>\n",
       "      <td>C2000</td>\n",
       "      <td>Preservation</td>\n",
       "      <td>Trust</td>\n",
       "      <td>1</td>\n",
       "      <td>10000-24999</td>\n",
       "      <td>N</td>\n",
       "      <td>6692</td>\n",
       "      <td>1</td>\n",
       "    </tr>\n",
       "    <tr>\n",
       "      <th>4</th>\n",
       "      <td>10556103</td>\n",
       "      <td>GENETIC RESEARCH INSTITUTE OF THE DESERT</td>\n",
       "      <td>T3</td>\n",
       "      <td>Independent</td>\n",
       "      <td>C1000</td>\n",
       "      <td>Heathcare</td>\n",
       "      <td>Trust</td>\n",
       "      <td>1</td>\n",
       "      <td>100000-499999</td>\n",
       "      <td>N</td>\n",
       "      <td>142590</td>\n",
       "      <td>1</td>\n",
       "    </tr>\n",
       "  </tbody>\n",
       "</table>\n",
       "</div>"
      ],
      "text/plain": [
       "        EIN                                      NAME APPLICATION_TYPE  \\\n",
       "0  10520599              BLUE KNIGHTS MOTORCYCLE CLUB              T10   \n",
       "1  10531628    AMERICAN CHESAPEAKE CLUB CHARITABLE TR               T3   \n",
       "2  10547893        ST CLOUD PROFESSIONAL FIREFIGHTERS               T5   \n",
       "3  10553066            SOUTHSIDE ATHLETIC ASSOCIATION               T3   \n",
       "4  10556103  GENETIC RESEARCH INSTITUTE OF THE DESERT               T3   \n",
       "\n",
       "        AFFILIATION CLASSIFICATION      USE_CASE  ORGANIZATION  STATUS  \\\n",
       "0       Independent          C1000    ProductDev   Association       1   \n",
       "1       Independent          C2000  Preservation  Co-operative       1   \n",
       "2  CompanySponsored          C3000    ProductDev   Association       1   \n",
       "3  CompanySponsored          C2000  Preservation         Trust       1   \n",
       "4       Independent          C1000     Heathcare         Trust       1   \n",
       "\n",
       "      INCOME_AMT SPECIAL_CONSIDERATIONS  ASK_AMT  IS_SUCCESSFUL  \n",
       "0              0                      N     5000              1  \n",
       "1         1-9999                      N   108590              1  \n",
       "2              0                      N     5000              0  \n",
       "3    10000-24999                      N     6692              1  \n",
       "4  100000-499999                      N   142590              1  "
      ]
     },
     "execution_count": 1,
     "metadata": {},
     "output_type": "execute_result"
    }
   ],
   "source": [
    "# Import our dependencies\n",
    "from sklearn.model_selection import train_test_split\n",
    "from sklearn.preprocessing import StandardScaler\n",
    "import pandas as pd\n",
    "import tensorflow as tf\n",
    "\n",
    "#  Import and read the charity_data.csv.\n",
    "import pandas as pd \n",
    "application_df = pd.read_csv(\"https://static.bc-edx.com/data/dla-1-2/m21/lms/starter/charity_data.csv\")\n",
    "application_df.head()"
   ]
  },
  {
   "cell_type": "code",
   "execution_count": 2,
   "metadata": {},
   "outputs": [
    {
     "data": {
      "text/html": [
       "<div>\n",
       "<style scoped>\n",
       "    .dataframe tbody tr th:only-of-type {\n",
       "        vertical-align: middle;\n",
       "    }\n",
       "\n",
       "    .dataframe tbody tr th {\n",
       "        vertical-align: top;\n",
       "    }\n",
       "\n",
       "    .dataframe thead th {\n",
       "        text-align: right;\n",
       "    }\n",
       "</style>\n",
       "<table border=\"1\" class=\"dataframe\">\n",
       "  <thead>\n",
       "    <tr style=\"text-align: right;\">\n",
       "      <th></th>\n",
       "      <th>APPLICATION_TYPE</th>\n",
       "      <th>AFFILIATION</th>\n",
       "      <th>CLASSIFICATION</th>\n",
       "      <th>USE_CASE</th>\n",
       "      <th>ORGANIZATION</th>\n",
       "      <th>STATUS</th>\n",
       "      <th>INCOME_AMT</th>\n",
       "      <th>SPECIAL_CONSIDERATIONS</th>\n",
       "      <th>ASK_AMT</th>\n",
       "      <th>IS_SUCCESSFUL</th>\n",
       "    </tr>\n",
       "  </thead>\n",
       "  <tbody>\n",
       "    <tr>\n",
       "      <th>0</th>\n",
       "      <td>T10</td>\n",
       "      <td>Independent</td>\n",
       "      <td>C1000</td>\n",
       "      <td>ProductDev</td>\n",
       "      <td>Association</td>\n",
       "      <td>1</td>\n",
       "      <td>0</td>\n",
       "      <td>N</td>\n",
       "      <td>5000</td>\n",
       "      <td>1</td>\n",
       "    </tr>\n",
       "    <tr>\n",
       "      <th>1</th>\n",
       "      <td>T3</td>\n",
       "      <td>Independent</td>\n",
       "      <td>C2000</td>\n",
       "      <td>Preservation</td>\n",
       "      <td>Co-operative</td>\n",
       "      <td>1</td>\n",
       "      <td>1-9999</td>\n",
       "      <td>N</td>\n",
       "      <td>108590</td>\n",
       "      <td>1</td>\n",
       "    </tr>\n",
       "    <tr>\n",
       "      <th>2</th>\n",
       "      <td>T5</td>\n",
       "      <td>CompanySponsored</td>\n",
       "      <td>C3000</td>\n",
       "      <td>ProductDev</td>\n",
       "      <td>Association</td>\n",
       "      <td>1</td>\n",
       "      <td>0</td>\n",
       "      <td>N</td>\n",
       "      <td>5000</td>\n",
       "      <td>0</td>\n",
       "    </tr>\n",
       "    <tr>\n",
       "      <th>3</th>\n",
       "      <td>T3</td>\n",
       "      <td>CompanySponsored</td>\n",
       "      <td>C2000</td>\n",
       "      <td>Preservation</td>\n",
       "      <td>Trust</td>\n",
       "      <td>1</td>\n",
       "      <td>10000-24999</td>\n",
       "      <td>N</td>\n",
       "      <td>6692</td>\n",
       "      <td>1</td>\n",
       "    </tr>\n",
       "    <tr>\n",
       "      <th>4</th>\n",
       "      <td>T3</td>\n",
       "      <td>Independent</td>\n",
       "      <td>C1000</td>\n",
       "      <td>Heathcare</td>\n",
       "      <td>Trust</td>\n",
       "      <td>1</td>\n",
       "      <td>100000-499999</td>\n",
       "      <td>N</td>\n",
       "      <td>142590</td>\n",
       "      <td>1</td>\n",
       "    </tr>\n",
       "  </tbody>\n",
       "</table>\n",
       "</div>"
      ],
      "text/plain": [
       "  APPLICATION_TYPE       AFFILIATION CLASSIFICATION      USE_CASE  \\\n",
       "0              T10       Independent          C1000    ProductDev   \n",
       "1               T3       Independent          C2000  Preservation   \n",
       "2               T5  CompanySponsored          C3000    ProductDev   \n",
       "3               T3  CompanySponsored          C2000  Preservation   \n",
       "4               T3       Independent          C1000     Heathcare   \n",
       "\n",
       "   ORGANIZATION  STATUS     INCOME_AMT SPECIAL_CONSIDERATIONS  ASK_AMT  \\\n",
       "0   Association       1              0                      N     5000   \n",
       "1  Co-operative       1         1-9999                      N   108590   \n",
       "2   Association       1              0                      N     5000   \n",
       "3         Trust       1    10000-24999                      N     6692   \n",
       "4         Trust       1  100000-499999                      N   142590   \n",
       "\n",
       "   IS_SUCCESSFUL  \n",
       "0              1  \n",
       "1              1  \n",
       "2              0  \n",
       "3              1  \n",
       "4              1  "
      ]
     },
     "execution_count": 2,
     "metadata": {},
     "output_type": "execute_result"
    }
   ],
   "source": [
    "# Drop the non-beneficial ID columns, 'EIN' and 'NAME'.\n",
    "#  YOUR CODE GOES HERE\n",
    "columns_to_drop = [\"EIN\", \"NAME\"]\n",
    "\n",
    "# Drop the specified columns from the DataFrame\n",
    "application_df = application_df.drop(columns=columns_to_drop, axis=1)\n",
    "application_df.head()"
   ]
  },
  {
   "cell_type": "code",
   "execution_count": 3,
   "metadata": {},
   "outputs": [
    {
     "name": "stdout",
     "output_type": "stream",
     "text": [
      "APPLICATION_TYPE                         (Data Type: object) - 17 unique value(s)\n",
      "AFFILIATION                              (Data Type: object) - 6 unique value(s)\n",
      "CLASSIFICATION                           (Data Type: object) - 71 unique value(s)\n",
      "USE_CASE                                 (Data Type: object) - 5 unique value(s)\n",
      "ORGANIZATION                             (Data Type: object) - 4 unique value(s)\n",
      "STATUS               numeric- 2 unique value(s)\n",
      "INCOME_AMT                               (Data Type: object) - 9 unique value(s)\n",
      "SPECIAL_CONSIDERATIONS                   (Data Type: object) - 2 unique value(s)\n",
      "ASK_AMT              numeric- 8747 unique value(s)\n",
      "IS_SUCCESSFUL        numeric- 2 unique value(s)\n"
     ]
    }
   ],
   "source": [
    "# Finding attribute columns\n",
    "application_categories = application_df.dtypes[application_df.dtypes == \"object\"].index.tolist()\n",
    "\n",
    "# Check the number of unique values in each column of object type\n",
    "columns = application_df[application_categories].nunique()\n",
    "\n",
    "# Iterate through the columns and print the unique value counts for each column\n",
    "# we iterate through every column in the dataframe, some of them of object type where we found the unique count\n",
    "for column in application_df.columns:\n",
    "    if column in columns.index:\n",
    "        data_type = application_df[column].dtype\n",
    "        #print(f\"{column}           (Data Type: {data_type}) - {columns[column]} unique value(s)\")\n",
    "        print(f\"{column.ljust(40)} (Data Type: {data_type}) - {columns[column]} unique value(s)\")\n",
    "    else:\n",
    "        print(f\"{column.ljust(20)} numeric- {application_df[column].nunique()} unique value(s)\")\n",
    "\n"
   ]
  },
  {
   "cell_type": "code",
   "execution_count": 4,
   "metadata": {},
   "outputs": [
    {
     "name": "stdout",
     "output_type": "stream",
     "text": [
      "   APPLICATION_TYPE  COUNT\n",
      "0                T3  27037\n",
      "1                T4   1542\n",
      "2                T6   1216\n",
      "3                T5   1173\n",
      "4               T19   1065\n",
      "5                T8    737\n",
      "6                T7    725\n",
      "7               T10    528\n",
      "8                T9    156\n",
      "9               T13     66\n",
      "10              T12     27\n",
      "11               T2     16\n",
      "12              T14      3\n",
      "13              T25      3\n",
      "14              T29      2\n",
      "15              T15      2\n",
      "16              T17      1\n"
     ]
    }
   ],
   "source": [
    "# Look at APPLICATION_TYPE value counts for binning\n",
    "\n",
    "#  YOUR CODE GOES HERE\n",
    "grouped_df = application_df.groupby(\"APPLICATION_TYPE\").size().reset_index(name=\"COUNT\")\n",
    "sorted_df = grouped_df.sort_values(by=\"COUNT\", ascending=False)\n",
    "sorted_df = sorted_df.reset_index(drop=True)\n",
    "print(sorted_df)\n"
   ]
  },
  {
   "cell_type": "code",
   "execution_count": 5,
   "metadata": {},
   "outputs": [
    {
     "name": "stdout",
     "output_type": "stream",
     "text": [
      "T3       27037\n",
      "T4        1542\n",
      "T6        1216\n",
      "T5        1173\n",
      "T19       1065\n",
      "T8         737\n",
      "T7         725\n",
      "T10        528\n",
      "Other      276\n",
      "Name: APPLICATION_TYPE, dtype: int64\n"
     ]
    }
   ],
   "source": [
    "# Choose a cutoff value and create a list of application types to be replaced\n",
    "# (Types we will bin together are (T9, T13, T12, T2, T14, T25, T29, T15, T17)\n",
    "# use the variable name `application_types_to_replace`\n",
    "#  YOUR CODE GOES HERE\n",
    "application_types_to_replace = [\"T9\", \"T13\", \"T12\", \"T2\", \"T14\", \"T25\", \"T29\", \"T15\", \"T17\"]\n",
    "\n",
    "# Replace the specified values in the \"APPLICATION_TYPE\" column with \"Other\"\n",
    "application_df['APPLICATION_TYPE'] = application_df['APPLICATION_TYPE'].replace(application_types_to_replace, \"Other\")\n",
    "\n",
    "# Check the value counts after replacing\n",
    "print(application_df['APPLICATION_TYPE'].value_counts())"
   ]
  },
  {
   "cell_type": "code",
   "execution_count": 6,
   "metadata": {},
   "outputs": [
    {
     "name": "stdout",
     "output_type": "stream",
     "text": [
      "   CLASSIFICATION  COUNT\n",
      "0           C1000  17326\n",
      "1           C2000   6074\n",
      "2           C1200   4837\n",
      "3           C3000   1918\n",
      "4           C2100   1883\n",
      "..            ...    ...\n",
      "66          C2190      1\n",
      "67          C2380      1\n",
      "68          C2500      1\n",
      "69          C2561      1\n",
      "70          C8210      1\n",
      "\n",
      "[71 rows x 2 columns]\n"
     ]
    }
   ],
   "source": [
    "# Look at CLASSIFICATION value counts for binning\n",
    "#  YOUR CODE GOES HERE\n",
    "grouped_df2 = application_df.groupby(\"CLASSIFICATION\").size().reset_index(name=\"COUNT\")\n",
    "sorted_df2 = grouped_df2.sort_values(by=\"COUNT\", ascending=False)\n",
    "sorted_df2 = sorted_df2.reset_index(drop=True)\n",
    "print(sorted_df2)"
   ]
  },
  {
   "cell_type": "code",
   "execution_count": 7,
   "metadata": {},
   "outputs": [
    {
     "name": "stdout",
     "output_type": "stream",
     "text": [
      "   CLASSIFICATION  COUNT\n",
      "0           C1000  17326\n",
      "1           C2000   6074\n",
      "2           C1200   4837\n",
      "3           C3000   1918\n",
      "4           C2100   1883\n",
      "5           C7000    777\n",
      "6           C1700    287\n",
      "7           C4000    194\n",
      "8           C5000    116\n",
      "9           C1270    114\n",
      "10          C2700    104\n",
      "11          C2800     95\n",
      "12          C7100     75\n",
      "13          C1300     58\n",
      "14          C1280     50\n",
      "15          C1230     36\n",
      "16          C1400     34\n",
      "17          C2300     32\n",
      "18          C7200     32\n",
      "19          C1240     30\n",
      "20          C8000     20\n",
      "21          C7120     18\n",
      "22          C1500     16\n",
      "23          C1800     15\n",
      "24          C6000     15\n",
      "25          C1250     14\n",
      "26          C8200     11\n",
      "27          C1278     10\n",
      "28          C1238     10\n",
      "29          C1235      9\n",
      "30          C1237      9\n",
      "31          C7210      7\n",
      "32          C1720      6\n",
      "33          C4100      6\n",
      "34          C2400      6\n",
      "35          C1600      5\n",
      "36          C1257      5\n",
      "37          C2710      3\n",
      "38          C1260      3\n",
      "39             C0      3\n",
      "40          C1267      2\n",
      "41          C1246      2\n",
      "42          C1256      2\n",
      "43          C3200      2\n",
      "44          C1234      2\n"
     ]
    }
   ],
   "source": [
    "# You may find it helpful to look at CLASSIFICATION value counts >1\n",
    "#  YOUR CODE GOES HERE\n",
    "filtered_df = sorted_df2[sorted_df2[\"COUNT\"] > 1]\n",
    "filtered_df.reset_index(drop=True, inplace=True)\n",
    "\n",
    "print(filtered_df)\n"
   ]
  },
  {
   "cell_type": "code",
   "execution_count": 8,
   "metadata": {},
   "outputs": [
    {
     "data": {
      "text/plain": [
       "C1000    17326\n",
       "C2000     6074\n",
       "C1200     4837\n",
       "Other     2261\n",
       "C3000     1918\n",
       "C2100     1883\n",
       "Name: CLASSIFICATION, dtype: int64"
      ]
     },
     "execution_count": 8,
     "metadata": {},
     "output_type": "execute_result"
    }
   ],
   "source": [
    "# Choose a cutoff value and create a list of classifications to be replaced\n",
    "# 1883 will be my cutoff\n",
    "# use the variable name `classifications_to_replace`\n",
    "#  YOUR CODE GOES HERE\n",
    "classifications_to_replace = [\"C7000\",\"C1700\",\"C4000\",\"C5000\",\"C1270\",\"C2700\",\"C2800\",\n",
    "                              \"C7100\",\"C1300\",\"C1280\",\"C1230\",\"C1400\",\"C2300\",\"C7200\",\n",
    "                              \"C1240\",\"C8000\",\"C7120\",\"C1500\",\"C1800\",\"C6000\",\"C1250\",\n",
    "                              \"C8200\",\"C1278\",\"C1238\",\"C1235\",\"C1237\",\"C7210\",\"C1720\",\n",
    "                              \"C4100\",\"C2400\",\"C1600\",\"C1257\",\"C2710\",\"C1260\",\"C0\",\n",
    "                              \"C1267\",\"C1246\",\"C1256\",\"C3200\",\"C1234\",\n",
    "                              \"C1370\",\"C1236\",\"C2190\",\"C4200\",\"C5200\",\"C1248\",\"C2600\",\n",
    "                              \"C1590\",\"C6100\",\"C1820\",\"C1900\",\"C2380\",\"C2570\",\"C1580\",\n",
    "                              \"C3700\",\"C2500\",\"C1570\",\"C1283\",\"C2170\",\"C1732\",\"C1728\",\n",
    "                              \"C4120\",\"C8210\",\"C4500\",\"C1245\",\"C2561\",\"C2150\"]\n",
    "# Replace in dataframe\n",
    "application_df['CLASSIFICATION'] = application_df['CLASSIFICATION'].replace(classifications_to_replace,\"Other\")\n",
    "    \n",
    "# Check to make sure binning was successful\n",
    "application_df['CLASSIFICATION'].value_counts()\n",
    "\n",
    "#print(application_df['CLASSIFICATION'].value_counts())\n"
   ]
  },
  {
   "cell_type": "code",
   "execution_count": 9,
   "metadata": {},
   "outputs": [
    {
     "name": "stdout",
     "output_type": "stream",
     "text": [
      "STATUS                          int64\n",
      "ASK_AMT                         int64\n",
      "IS_SUCCESSFUL                   int64\n",
      "APPLICATION_TYPE_Other          uint8\n",
      "APPLICATION_TYPE_T10            uint8\n",
      "APPLICATION_TYPE_T19            uint8\n",
      "APPLICATION_TYPE_T3             uint8\n",
      "APPLICATION_TYPE_T4             uint8\n",
      "APPLICATION_TYPE_T5             uint8\n",
      "APPLICATION_TYPE_T6             uint8\n",
      "APPLICATION_TYPE_T7             uint8\n",
      "APPLICATION_TYPE_T8             uint8\n",
      "AFFILIATION_CompanySponsored    uint8\n",
      "AFFILIATION_Family/Parent       uint8\n",
      "AFFILIATION_Independent         uint8\n",
      "AFFILIATION_National            uint8\n",
      "AFFILIATION_Other               uint8\n",
      "AFFILIATION_Regional            uint8\n",
      "CLASSIFICATION_C1000            uint8\n",
      "CLASSIFICATION_C1200            uint8\n",
      "CLASSIFICATION_C2000            uint8\n",
      "CLASSIFICATION_C2100            uint8\n",
      "CLASSIFICATION_C3000            uint8\n",
      "CLASSIFICATION_Other            uint8\n",
      "USE_CASE_CommunityServ          uint8\n",
      "USE_CASE_Heathcare              uint8\n",
      "USE_CASE_Other                  uint8\n",
      "USE_CASE_Preservation           uint8\n",
      "USE_CASE_ProductDev             uint8\n",
      "ORGANIZATION_Association        uint8\n",
      "ORGANIZATION_Co-operative       uint8\n",
      "ORGANIZATION_Corporation        uint8\n",
      "ORGANIZATION_Trust              uint8\n",
      "INCOME_AMT_0                    uint8\n",
      "INCOME_AMT_1-9999               uint8\n",
      "INCOME_AMT_10000-24999          uint8\n",
      "INCOME_AMT_100000-499999        uint8\n",
      "INCOME_AMT_10M-50M              uint8\n",
      "INCOME_AMT_1M-5M                uint8\n",
      "INCOME_AMT_25000-99999          uint8\n",
      "INCOME_AMT_50M+                 uint8\n",
      "INCOME_AMT_5M-10M               uint8\n",
      "SPECIAL_CONSIDERATIONS_N        uint8\n",
      "SPECIAL_CONSIDERATIONS_Y        uint8\n",
      "dtype: object\n"
     ]
    }
   ],
   "source": [
    "# Convert categorical data to numeric with `pd.get_dummies`\n",
    "#  YOUR CODE GOES HERE\n",
    "numerical_cols = application_df.select_dtypes(include=['int', 'float']).columns\n",
    "categorical_cols = application_df.select_dtypes(include=['object']).columns\n",
    "# Use get_dummies() to one-hot encode only the categorical columns\n",
    "one_hot_encoded = pd.get_dummies(application_df[categorical_cols])\n",
    "application_df = pd.concat([application_df[numerical_cols], one_hot_encoded], axis=1)\n",
    "column_types = application_df.dtypes\n",
    "\n",
    "print(column_types)"
   ]
  },
  {
   "cell_type": "code",
   "execution_count": 10,
   "metadata": {},
   "outputs": [],
   "source": [
    "# Split our preprocessed data into our features and target arrays\n",
    "#  YOUR CODE GOES HERE   \n",
    "y = application_df[\"IS_SUCCESSFUL\"].values\n",
    "X = application_df.drop([\"IS_SUCCESSFUL\"], axis=1).values \n",
    "# Split the preprocessed data into a training and testing dataset\n",
    "#  YOUR CODE GOES HERE\n",
    "X_train, X_test, y_train, y_test = train_test_split(X, y, random_state = 78)\n",
    "# you can set a default split size too I think we are at test_size = 0.1"
   ]
  },
  {
   "cell_type": "code",
   "execution_count": 11,
   "metadata": {},
   "outputs": [],
   "source": [
    "# Create a StandardScaler instances\n",
    "scaler = StandardScaler()\n",
    "\n",
    "# Fit the StandardScaler\n",
    "X_scaler = scaler.fit(X_train)\n",
    "\n",
    "# Scale the data\n",
    "X_train_scaled = X_scaler.transform(X_train)\n",
    "X_test_scaled = X_scaler.transform(X_test)"
   ]
  },
  {
   "cell_type": "markdown",
   "metadata": {},
   "source": [
    "## Compile, Train and Evaluate the Model"
   ]
  },
  {
   "cell_type": "code",
   "execution_count": 12,
   "metadata": {},
   "outputs": [
    {
     "name": "stdout",
     "output_type": "stream",
     "text": [
      "Model: \"sequential\"\n",
      "_________________________________________________________________\n",
      " Layer (type)                Output Shape              Param #   \n",
      "=================================================================\n",
      " dense (Dense)               (None, 8)                 352       \n",
      "                                                                 \n",
      " dense_1 (Dense)             (None, 5)                 45        \n",
      "                                                                 \n",
      " dense_2 (Dense)             (None, 1)                 6         \n",
      "                                                                 \n",
      "=================================================================\n",
      "Total params: 403\n",
      "Trainable params: 403\n",
      "Non-trainable params: 0\n",
      "_________________________________________________________________\n"
     ]
    }
   ],
   "source": [
    "# Define the model - deep neural net, i.e., the number of input features and hidden nodes for each layer.\n",
    "#  YOUR CODE GOES HERE\n",
    "import tensorflow as tf\n",
    "number_input_features = len(X_train[0])\n",
    "hidden_nodes_layer1 = 8\n",
    "hidden_nodes_layer2 = 5\n",
    "nn = tf.keras.models.Sequential()\n",
    "\n",
    "# First hidden layer\n",
    "#  YOUR CODE GOES HERE\n",
    "nn.add(\n",
    "    tf.keras.layers.Dense(units=hidden_nodes_layer1,\n",
    "input_dim=number_input_features, activation = \"relu\")\n",
    ")\n",
    "\n",
    "# Second hidden layer\n",
    "#  YOUR CODE GOES HERE\n",
    "nn.add(tf.keras.layers.Dense(units=hidden_nodes_layer2, activation = \"relu\"))\n",
    "\n",
    "# Output layer\n",
    "#  YOUR CODE GOES HERE\n",
    "nn.add(tf.keras.layers.Dense(units=1, activation=\"sigmoid\"))\n",
    "# Check the structure of the model\n",
    "nn.summary()"
   ]
  },
  {
   "cell_type": "code",
   "execution_count": 13,
   "metadata": {},
   "outputs": [],
   "source": [
    "# Compile the model\n",
    "#  YOUR CODE GOES HERE\n",
    "nn.compile(loss=\"binary_crossentropy\", optimizer=\"adam\", metrics=[\"accuracy\"])"
   ]
  },
  {
   "cell_type": "code",
   "execution_count": 14,
   "metadata": {},
   "outputs": [],
   "source": [
    "def final_callback(message):\n",
    "    print(f\"Final callback: {message}\")"
   ]
  },
  {
   "cell_type": "code",
   "execution_count": 15,
   "metadata": {},
   "outputs": [],
   "source": [
    "def loss_accuracy_callback(epoch, loss, accuracy):\n",
    "    print(f\"Epoch {epoch}: Loss={loss:.4f}, Accuracy={accuracy:.4f}\")"
   ]
  },
  {
   "cell_type": "code",
   "execution_count": 16,
   "metadata": {},
   "outputs": [
    {
     "name": "stdout",
     "output_type": "stream",
     "text": [
      "268/268 [==============================] - 0s 929us/step\n",
      "Combined Data (Features + Predicted Values):\n",
      "[[ 0.01394306 -0.03336766 -0.08918651 ...  0.02789425 -0.02789425\n",
      "   0.69083112]\n",
      " [ 0.01394306  0.02868029 -0.08918651 ...  0.02789425 -0.02789425\n",
      "   0.41815293]\n",
      " [ 0.01394306 -0.03348439 -0.08918651 ...  0.02789425 -0.02789425\n",
      "   0.65896779]\n",
      " ...\n",
      " [ 0.01394306 -0.03348439 -0.08918651 ...  0.02789425 -0.02789425\n",
      "   0.86277372]\n",
      " [ 0.01394306 -0.03348439 -0.08918651 ...  0.02789425 -0.02789425\n",
      "   0.58462256]\n",
      " [ 0.01394306 -0.03348439 -0.08918651 ...  0.02789425 -0.02789425\n",
      "   0.69579893]]\n"
     ]
    }
   ],
   "source": [
    "import numpy as np\n",
    "def main_process(callback, X_train_scaled, y_train, nn, report_interval=5):\n",
    "    # Train the model and store the training history\n",
    "    fit_model = nn.fit(X_train_scaled, y_train, epochs=100, verbose=0)\n",
    "    training_history = fit_model.history\n",
    "    \n",
    "    print(\"Training has started.\")\n",
    "    epochs = 100\n",
    "    \n",
    "    # Report loss and accuracy at the specified intervals\n",
    "    for epoch in range(1, epochs + 1):\n",
    "        if epoch % report_interval == 0 or epoch == epochs:\n",
    "            loss = training_history['loss'][epoch - 1]\n",
    "            accuracy = training_history['accuracy'][epoch - 1]\n",
    "\n",
    "            callback(epoch, loss, accuracy)\n",
    "\n",
    "    result = \"Task completed.\"\n",
    "    final_callback(result)  \n",
    "    print(\"Main process finished.\")\n",
    "\n",
    "    # Get the predicted values for the test data\n",
    "predicted_values = nn.predict(X_test_scaled)\n",
    "#print(\"Predicted Values:\", predicted_values)\n",
    "combined_data = np.concatenate((X_test_scaled, predicted_values), axis=1)\n",
    "\n",
    "# Print the combined data to show modelling answers\n",
    "print(\"Combined Data (Features + Predicted Values):\")\n",
    "print(combined_data)\n"
   ]
  },
  {
   "cell_type": "code",
   "execution_count": 17,
   "metadata": {},
   "outputs": [],
   "source": [
    "def loss_accuracy_callback(epoch, loss, accuracy):\n",
    "    print(f\"Epoch {epoch}: Loss={loss:.4f}, Accuracy={accuracy:.4f}\")"
   ]
  },
  {
   "cell_type": "code",
   "execution_count": 18,
   "metadata": {},
   "outputs": [
    {
     "name": "stdout",
     "output_type": "stream",
     "text": [
      "Training has started.\n",
      "Epoch 5: Loss=0.5606, Accuracy=0.7300\n",
      "Epoch 10: Loss=0.5547, Accuracy=0.7304\n",
      "Epoch 15: Loss=0.5525, Accuracy=0.7320\n",
      "Epoch 20: Loss=0.5512, Accuracy=0.7319\n",
      "Epoch 25: Loss=0.5492, Accuracy=0.7320\n",
      "Epoch 30: Loss=0.5487, Accuracy=0.7327\n",
      "Epoch 35: Loss=0.5483, Accuracy=0.7325\n",
      "Epoch 40: Loss=0.5481, Accuracy=0.7336\n",
      "Epoch 45: Loss=0.5479, Accuracy=0.7334\n",
      "Epoch 50: Loss=0.5473, Accuracy=0.7323\n",
      "Epoch 55: Loss=0.5472, Accuracy=0.7338\n",
      "Epoch 60: Loss=0.5471, Accuracy=0.7341\n",
      "Epoch 65: Loss=0.5471, Accuracy=0.7345\n",
      "Epoch 70: Loss=0.5465, Accuracy=0.7346\n",
      "Epoch 75: Loss=0.5466, Accuracy=0.7338\n",
      "Epoch 80: Loss=0.5465, Accuracy=0.7343\n",
      "Epoch 85: Loss=0.5462, Accuracy=0.7351\n",
      "Epoch 90: Loss=0.5463, Accuracy=0.7343\n",
      "Epoch 95: Loss=0.5460, Accuracy=0.7350\n",
      "Epoch 100: Loss=0.5459, Accuracy=0.7341\n",
      "Final callback: Task completed.\n",
      "Main process finished.\n"
     ]
    }
   ],
   "source": [
    "main_process(loss_accuracy_callback, X_train_scaled, y_train, nn)"
   ]
  },
  {
   "cell_type": "code",
   "execution_count": 19,
   "metadata": {},
   "outputs": [
    {
     "name": "stdout",
     "output_type": "stream",
     "text": [
      "268/268 - 0s - loss: 0.5592 - accuracy: 0.7238 - 476ms/epoch - 2ms/step\n",
      "Loss: 0.5591604113578796, Accuracy: 0.7238484025001526\n"
     ]
    }
   ],
   "source": [
    "# Evaluate the model using the test data\n",
    "model_loss, model_accuracy = nn.evaluate(X_test_scaled,y_test,verbose=2)\n",
    "print(f\"Loss: {model_loss}, Accuracy: {model_accuracy}\")\n"
   ]
  },
  {
   "cell_type": "code",
   "execution_count": 20,
   "metadata": {},
   "outputs": [],
   "source": [
    "# Export our model to HDF5 file\n",
    "#  YOUR CODE GOES HERE\n",
    "nn.save(\"charity_keras_tensorsaved_model.h5\")"
   ]
  }
 ],
 "metadata": {
  "kernelspec": {
   "display_name": "Python 3 (ipykernel)",
   "language": "python",
   "name": "python3"
  },
  "language_info": {
   "codemirror_mode": {
    "name": "ipython",
    "version": 3
   },
   "file_extension": ".py",
   "mimetype": "text/x-python",
   "name": "python",
   "nbconvert_exporter": "python",
   "pygments_lexer": "ipython3",
   "version": "3.10.9"
  },
  "vscode": {
   "interpreter": {
    "hash": "31f2aee4e71d21fbe5cf8b01ff0e069b9275f58929596ceb00d14d90e3e16cd6"
   }
  }
 },
 "nbformat": 4,
 "nbformat_minor": 4
}
