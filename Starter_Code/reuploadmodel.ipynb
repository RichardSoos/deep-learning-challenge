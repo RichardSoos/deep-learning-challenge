{
 "cells": [
  {
   "cell_type": "code",
   "execution_count": 3,
   "metadata": {},
   "outputs": [
    {
     "name": "stdout",
     "output_type": "stream",
     "text": [
      "Model: \"sequential\"\n",
      "_________________________________________________________________\n",
      " Layer (type)                Output Shape              Param #   \n",
      "=================================================================\n",
      " dense (Dense)               (None, 8)                 352       \n",
      "                                                                 \n",
      " dense_1 (Dense)             (None, 5)                 45        \n",
      "                                                                 \n",
      " dense_2 (Dense)             (None, 1)                 6         \n",
      "                                                                 \n",
      "=================================================================\n",
      "Total params: 403\n",
      "Trainable params: 403\n",
      "Non-trainable params: 0\n",
      "_________________________________________________________________\n"
     ]
    }
   ],
   "source": [
    "import os\n",
    "import tensorflow as tf\n",
    "from tensorflow.keras.models import load_model\n",
    "\n",
    "# Set the working directory to the correct path\n",
    "#os.chdir(\"C:/Users/soosr/Documents/AllHomework/deep-learning-challenge/Starter_Code\")\n",
    "\n",
    "# File name of the HDF5 file to open\n",
    "hdf5_file_name = \"charity_keras_tensorsaved_model.h5\"\n",
    "\n",
    "# Load the model from the HDF5 file\n",
    "loaded_model = load_model(hdf5_file_name)\n",
    "\n",
    "# Print the summary of the loaded model\n",
    "loaded_model.summary()\n",
    "\n"
   ]
  },
  {
   "cell_type": "markdown",
   "metadata": {},
   "source": [
    "### This is how to call the model if you embed the code above in a program using our model.\n",
    "import tensorflow as tf\n",
    "from tensorflow.keras.models import load_model\n",
    "\n",
    "### File name of the HDF5 file you provided\n",
    "hdf5_file_name = \"charity_keras_tensorsaved_model.h5\"\n",
    "\n",
    "### Load the model from the HDF5 file and assign it to a variable called \"my_model\"\n",
    "my_model = load_model(hdf5_file_name)\n",
    "\n",
    "### Now they can use the \"my_model\" object for making predictions, transfer learning, etc.\n",
    "predictions = my_model.predict(some_new_data)"
   ]
  }
 ],
 "metadata": {
  "kernelspec": {
   "display_name": "soosdev",
   "language": "python",
   "name": "python3"
  },
  "language_info": {
   "codemirror_mode": {
    "name": "ipython",
    "version": 3
   },
   "file_extension": ".py",
   "mimetype": "text/x-python",
   "name": "python",
   "nbconvert_exporter": "python",
   "pygments_lexer": "ipython3",
   "version": "3.10.9"
  },
  "orig_nbformat": 4
 },
 "nbformat": 4,
 "nbformat_minor": 2
}
