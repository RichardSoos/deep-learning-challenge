{
 "cells": [
  {
   "cell_type": "code",
   "execution_count": 5,
   "metadata": {},
   "outputs": [
    {
     "name": "stdout",
     "output_type": "stream",
     "text": [
      "File is recognized as an HDF5 file.\n",
      "Groups in HDF5 file:\n",
      "model_weights\n",
      "optimizer_weights\n",
      "Attributes of the HDF5 file:\n",
      "backend: tensorflow\n",
      "keras_version: 2.10.0\n",
      "model_config: {\"class_name\": \"Sequential\", \"config\": {\"name\": \"sequential\", \"layers\": [{\"class_name\": \"InputLayer\", \"config\": {\"batch_input_shape\": [null, 43], \"dtype\": \"float32\", \"sparse\": false, \"ragged\": false, \"name\": \"dense_input\"}}, {\"class_name\": \"Dense\", \"config\": {\"name\": \"dense\", \"trainable\": true, \"batch_input_shape\": [null, 43], \"dtype\": \"float32\", \"units\": 8, \"activation\": \"relu\", \"use_bias\": true, \"kernel_initializer\": {\"class_name\": \"GlorotUniform\", \"config\": {\"seed\": null}}, \"bias_initializer\": {\"class_name\": \"Zeros\", \"config\": {}}, \"kernel_regularizer\": null, \"bias_regularizer\": null, \"activity_regularizer\": null, \"kernel_constraint\": null, \"bias_constraint\": null}}, {\"class_name\": \"Dense\", \"config\": {\"name\": \"dense_1\", \"trainable\": true, \"dtype\": \"float32\", \"units\": 5, \"activation\": \"relu\", \"use_bias\": true, \"kernel_initializer\": {\"class_name\": \"GlorotUniform\", \"config\": {\"seed\": null}}, \"bias_initializer\": {\"class_name\": \"Zeros\", \"config\": {}}, \"kernel_regularizer\": null, \"bias_regularizer\": null, \"activity_regularizer\": null, \"kernel_constraint\": null, \"bias_constraint\": null}}, {\"class_name\": \"Dense\", \"config\": {\"name\": \"dense_2\", \"trainable\": true, \"dtype\": \"float32\", \"units\": 1, \"activation\": \"sigmoid\", \"use_bias\": true, \"kernel_initializer\": {\"class_name\": \"GlorotUniform\", \"config\": {\"seed\": null}}, \"bias_initializer\": {\"class_name\": \"Zeros\", \"config\": {}}, \"kernel_regularizer\": null, \"bias_regularizer\": null, \"activity_regularizer\": null, \"kernel_constraint\": null, \"bias_constraint\": null}}]}}\n",
      "training_config: {\"loss\": \"binary_crossentropy\", \"metrics\": [[{\"class_name\": \"MeanMetricWrapper\", \"config\": {\"name\": \"accuracy\", \"dtype\": \"float32\", \"fn\": \"binary_accuracy\"}}]], \"weighted_metrics\": null, \"loss_weights\": null, \"optimizer_config\": {\"class_name\": \"Adam\", \"config\": {\"name\": \"Adam\", \"learning_rate\": 0.0010000000474974513, \"decay\": 0.0, \"beta_1\": 0.8999999761581421, \"beta_2\": 0.9990000128746033, \"epsilon\": 1e-07, \"amsgrad\": false}}}\n",
      "Model Configuration:\n",
      "{\"class_name\": \"Sequential\", \"config\": {\"name\": \"sequential\", \"layers\": [{\"class_name\": \"InputLayer\", \"config\": {\"batch_input_shape\": [null, 43], \"dtype\": \"float32\", \"sparse\": false, \"ragged\": false, \"name\": \"dense_input\"}}, {\"class_name\": \"Dense\", \"config\": {\"name\": \"dense\", \"trainable\": true, \"batch_input_shape\": [null, 43], \"dtype\": \"float32\", \"units\": 8, \"activation\": \"relu\", \"use_bias\": true, \"kernel_initializer\": {\"class_name\": \"GlorotUniform\", \"config\": {\"seed\": null}}, \"bias_initializer\": {\"class_name\": \"Zeros\", \"config\": {}}, \"kernel_regularizer\": null, \"bias_regularizer\": null, \"activity_regularizer\": null, \"kernel_constraint\": null, \"bias_constraint\": null}}, {\"class_name\": \"Dense\", \"config\": {\"name\": \"dense_1\", \"trainable\": true, \"dtype\": \"float32\", \"units\": 5, \"activation\": \"relu\", \"use_bias\": true, \"kernel_initializer\": {\"class_name\": \"GlorotUniform\", \"config\": {\"seed\": null}}, \"bias_initializer\": {\"class_name\": \"Zeros\", \"config\": {}}, \"kernel_regularizer\": null, \"bias_regularizer\": null, \"activity_regularizer\": null, \"kernel_constraint\": null, \"bias_constraint\": null}}, {\"class_name\": \"Dense\", \"config\": {\"name\": \"dense_2\", \"trainable\": true, \"dtype\": \"float32\", \"units\": 1, \"activation\": \"sigmoid\", \"use_bias\": true, \"kernel_initializer\": {\"class_name\": \"GlorotUniform\", \"config\": {\"seed\": null}}, \"bias_initializer\": {\"class_name\": \"Zeros\", \"config\": {}}, \"kernel_regularizer\": null, \"bias_regularizer\": null, \"activity_regularizer\": null, \"kernel_constraint\": null, \"bias_constraint\": null}}]}}\n",
      "Model Weights:\n",
      "dense: <HDF5 group \"/model_weights/dense\" (1 members)>\n",
      "dense_1: <HDF5 group \"/model_weights/dense_1\" (1 members)>\n",
      "dense_2: <HDF5 group \"/model_weights/dense_2\" (1 members)>\n",
      "top_level_model_weights: <HDF5 group \"/model_weights/top_level_model_weights\" (0 members)>\n"
     ]
    }
   ],
   "source": [
    "import h5py\n",
    "import os\n",
    "\n",
    "# File name of the HDF5 file to open\n",
    "hdf5_file_name = \"charity_keras_tensorsaved_model.h5\"\n",
    "\n",
    "# Obtain the absolute path of the HDF5 file\n",
    "hdf5_file_path = os.path.abspath(hdf5_file_name)\n",
    "\n",
    "# Check if the file is recognized as an HDF5 file by h5py\n",
    "if h5py.is_hdf5(hdf5_file_path):\n",
    "    print(\"File is recognized as an HDF5 file.\")\n",
    "\n",
    "    # Open the HDF5 file in read-only mode\n",
    "    with h5py.File(hdf5_file_path, \"r\") as hf:\n",
    "        # List all groups (if any) present in the HDF5 file\n",
    "        print(\"Groups in HDF5 file:\")\n",
    "        for group_name in hf.keys():\n",
    "            print(group_name)\n",
    "\n",
    "        # Print the attributes of the HDF5 file\n",
    "        print(\"Attributes of the HDF5 file:\")\n",
    "        for attr_name, attr_value in hf.attrs.items():\n",
    "            print(f\"{attr_name}: {attr_value}\")\n",
    "\n",
    "        # Access the model configuration and weights (if they are saved under the 'model_weights' group)\n",
    "        model_config = hf.attrs[\"model_config\"]\n",
    "        model_weights_group = hf[\"model_weights\"]\n",
    "        print(\"Model Configuration:\")\n",
    "        print(model_config)\n",
    "        print(\"Model Weights:\")\n",
    "        for weight_name, weight_value in model_weights_group.items():\n",
    "            print(f\"{weight_name}: {weight_value}\")\n",
    "else:\n",
    "    print(\"File is not recognized as an HDF5 file.\") \n"
   ]
  }
 ],
 "metadata": {
  "kernelspec": {
   "display_name": "soosdev",
   "language": "python",
   "name": "python3"
  },
  "language_info": {
   "codemirror_mode": {
    "name": "ipython",
    "version": 3
   },
   "file_extension": ".py",
   "mimetype": "text/x-python",
   "name": "python",
   "nbconvert_exporter": "python",
   "pygments_lexer": "ipython3",
   "version": "3.10.9"
  },
  "orig_nbformat": 4
 },
 "nbformat": 4,
 "nbformat_minor": 2
}
